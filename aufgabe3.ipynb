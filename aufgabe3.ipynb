{
 "cells": [
  {
   "cell_type": "markdown",
   "metadata": {},
   "source": [
    "Import and define stuff\n"
   ]
  },
  {
   "cell_type": "code",
   "execution_count": 1,
   "metadata": {},
   "outputs": [],
   "source": [
    "import numpy as np\n",
    "import cv2\n",
    "\n",
    "def create_cos(N, alpha, beta, gamma):\n",
    "    x = np.linspace(0, 1, N+1)\n",
    "    x = x[:-2]\n",
    "    X, Y = np.meshgrid(x, x)\n",
    "    return np.cos(2*np.pi*(X*alpha + Y*beta + gamma))"
   ]
  },
  {
   "cell_type": "markdown",
   "metadata": {},
   "source": [
    "Aufgabe 1b)"
   ]
  },
  {
   "cell_type": "code",
   "execution_count": 2,
   "metadata": {},
   "outputs": [],
   "source": [
    "#Aufgabe 1b)\n",
    "a = 1/0.2*np.cos(np.pi/6)\n",
    "b = 1/0.2*np.sin(np.pi/6)\n",
    "c = 0\n",
    "\n",
    "cos_b = create_cos(256, a, b, c)\n",
    "cv2.imshow('bill cos_b', cos_b)\n",
    "cv2.waitKey()\n",
    "cv2.destroyAllWindows()"
   ]
  },
  {
   "cell_type": "markdown",
   "metadata": {},
   "source": [
    "Aufgabe 1c)"
   ]
  },
  {
   "cell_type": "code",
   "execution_count": 3,
   "metadata": {},
   "outputs": [],
   "source": [
    "#Aufgabe 1c)\n",
    "a = 8\n",
    "b = 4 \n",
    "c = 0.25\n",
    "cos_c = create_cos(256, a, b, c)\n",
    "cv2.imshow('cos_c', cos_c)\n",
    "cv2.waitKey()\n",
    "cv2.destroyAllWindows()"
   ]
  },
  {
   "cell_type": "markdown",
   "metadata": {},
   "source": [
    "Aufgabe 1d)"
   ]
  },
  {
   "cell_type": "code",
   "execution_count": 7,
   "metadata": {},
   "outputs": [],
   "source": [
    "#Aufgabe 1d)\n",
    "a = 128*np.cos(np.pi)\n",
    "b = 128*np.sin(np.pi)\n",
    "a = 128\n",
    "b = 128\n",
    "c = 0\n",
    "cos_d = create_cos(256, a, b, c)\n",
    "fft_d = np.imag(np.fft.fft2(cos_d))\n",
    "cv2.imshow('cos_d', cos_d)\n",
    "cv2.imshow('fft_d', fft_d)\n",
    "cv2.waitKey()\n",
    "cv2.destroyAllWindows()"
   ]
  },
  {
   "cell_type": "markdown",
   "metadata": {},
   "source": [
    "Aufgabe 2a)"
   ]
  },
  {
   "cell_type": "code",
   "execution_count": 11,
   "metadata": {},
   "outputs": [],
   "source": [
    "img = cv2.imread('data/how60c.tif', 0)\n",
    "img_fft = np.fft.fft2(img)\n",
    "img_fft_shift = np.fft.fftshift(img_fft)\n",
    "cv2.imshow('Original', img)\n",
    "cv2.imshow('Fourier', np.abs(img_fft))\n",
    "cv2.imshow('Fourier shift', np.abs(img_fft_shift))\n",
    "cv2.waitKey()\n",
    "cv2.destroyAllWindows()"
   ]
  }
 ],
 "metadata": {
  "interpreter": {
   "hash": "25034407fed5d681614dac11a1c0537e8cb49e3a8883c071303eea01322943d9"
  },
  "kernelspec": {
   "display_name": "Python 3.9.7 64-bit",
   "language": "python",
   "name": "python3"
  },
  "language_info": {
   "codemirror_mode": {
    "name": "ipython",
    "version": 3
   },
   "file_extension": ".py",
   "mimetype": "text/x-python",
   "name": "python",
   "nbconvert_exporter": "python",
   "pygments_lexer": "ipython3",
   "version": "3.9.7"
  },
  "orig_nbformat": 4
 },
 "nbformat": 4,
 "nbformat_minor": 2
}
